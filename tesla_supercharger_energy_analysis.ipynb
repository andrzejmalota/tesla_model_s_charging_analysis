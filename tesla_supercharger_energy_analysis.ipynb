{
 "cells": [
  {
   "cell_type": "code",
   "execution_count": 22,
   "metadata": {},
   "outputs": [],
   "source": [
    "import pandas as pd"
   ]
  },
  {
   "cell_type": "code",
   "execution_count": 23,
   "metadata": {},
   "outputs": [],
   "source": [
    "df = pd.read_csv('Charging details report October 10, 2014 - October 21, 2022.csv')"
   ]
  },
  {
   "cell_type": "code",
   "execution_count": 24,
   "metadata": {},
   "outputs": [
    {
     "data": {
      "text/html": [
       "<div>\n",
       "<style scoped>\n",
       "    .dataframe tbody tr th:only-of-type {\n",
       "        vertical-align: middle;\n",
       "    }\n",
       "\n",
       "    .dataframe tbody tr th {\n",
       "        vertical-align: top;\n",
       "    }\n",
       "\n",
       "    .dataframe thead th {\n",
       "        text-align: right;\n",
       "    }\n",
       "</style>\n",
       "<table border=\"1\" class=\"dataframe\">\n",
       "  <thead>\n",
       "    <tr style=\"text-align: right;\">\n",
       "      <th></th>\n",
       "      <th>ChargeStartDateTime</th>\n",
       "      <th>Name</th>\n",
       "      <th>Vin</th>\n",
       "      <th>Model</th>\n",
       "      <th>Country</th>\n",
       "      <th>SiteLocationName</th>\n",
       "      <th>Description</th>\n",
       "      <th>QuantityBase</th>\n",
       "      <th>QuantityTier1</th>\n",
       "      <th>QuantityTier2</th>\n",
       "      <th>...</th>\n",
       "      <th>UnitCostBase</th>\n",
       "      <th>UnitCostTier1</th>\n",
       "      <th>UnitCostTier2</th>\n",
       "      <th>UnitCostTier3</th>\n",
       "      <th>UnitCostTier4</th>\n",
       "      <th>VAT</th>\n",
       "      <th>Total Exc. VAT</th>\n",
       "      <th>Total Inc. VAT</th>\n",
       "      <th>Status</th>\n",
       "      <th>Invoice</th>\n",
       "    </tr>\n",
       "  </thead>\n",
       "  <tbody>\n",
       "    <tr>\n",
       "      <th>0</th>\n",
       "      <td>2022-10-21T08:45:10+02:00</td>\n",
       "      <td>Janusz Małota</td>\n",
       "      <td>5YJSA3H19EFP46878</td>\n",
       "      <td>ms</td>\n",
       "      <td>PL</td>\n",
       "      <td>Krakow, Poland</td>\n",
       "      <td>CHARGING : NO_CHARGE</td>\n",
       "      <td>34.00 kwh</td>\n",
       "      <td>NaN</td>\n",
       "      <td>NaN</td>\n",
       "      <td>...</td>\n",
       "      <td>2.60/kwh</td>\n",
       "      <td>NaN</td>\n",
       "      <td>NaN</td>\n",
       "      <td>NaN</td>\n",
       "      <td>NaN</td>\n",
       "      <td>0.0</td>\n",
       "      <td>0.0</td>\n",
       "      <td>0.0</td>\n",
       "      <td>PAID</td>\n",
       "      <td>NaN</td>\n",
       "    </tr>\n",
       "    <tr>\n",
       "      <th>1</th>\n",
       "      <td>2022-10-04T16:04:27+02:00</td>\n",
       "      <td>Janusz Małota</td>\n",
       "      <td>5YJSA3H19EFP46878</td>\n",
       "      <td>ms</td>\n",
       "      <td>PL</td>\n",
       "      <td>Krakow, Poland</td>\n",
       "      <td>CHARGING : NO_CHARGE</td>\n",
       "      <td>24.00 kwh</td>\n",
       "      <td>NaN</td>\n",
       "      <td>NaN</td>\n",
       "      <td>...</td>\n",
       "      <td>2.65/kwh</td>\n",
       "      <td>NaN</td>\n",
       "      <td>NaN</td>\n",
       "      <td>NaN</td>\n",
       "      <td>NaN</td>\n",
       "      <td>0.0</td>\n",
       "      <td>0.0</td>\n",
       "      <td>0.0</td>\n",
       "      <td>PAID</td>\n",
       "      <td>NaN</td>\n",
       "    </tr>\n",
       "    <tr>\n",
       "      <th>2</th>\n",
       "      <td>2022-10-04T15:52:52+02:00</td>\n",
       "      <td>Janusz Małota</td>\n",
       "      <td>5YJSA3H19EFP46878</td>\n",
       "      <td>ms</td>\n",
       "      <td>PL</td>\n",
       "      <td>Krakow, Poland</td>\n",
       "      <td>CHARGING : NO_CHARGE</td>\n",
       "      <td>9.00 kwh</td>\n",
       "      <td>NaN</td>\n",
       "      <td>NaN</td>\n",
       "      <td>...</td>\n",
       "      <td>2.65/kwh</td>\n",
       "      <td>NaN</td>\n",
       "      <td>NaN</td>\n",
       "      <td>NaN</td>\n",
       "      <td>NaN</td>\n",
       "      <td>0.0</td>\n",
       "      <td>0.0</td>\n",
       "      <td>0.0</td>\n",
       "      <td>PAID</td>\n",
       "      <td>NaN</td>\n",
       "    </tr>\n",
       "    <tr>\n",
       "      <th>3</th>\n",
       "      <td>2022-10-01T13:55:09+02:00</td>\n",
       "      <td>Janusz Małota</td>\n",
       "      <td>5YJSA3H19EFP46878</td>\n",
       "      <td>ms</td>\n",
       "      <td>PL</td>\n",
       "      <td>Krakow, Poland</td>\n",
       "      <td>CHARGING : NO_CHARGE</td>\n",
       "      <td>31.00 kwh</td>\n",
       "      <td>NaN</td>\n",
       "      <td>NaN</td>\n",
       "      <td>...</td>\n",
       "      <td>2.65/kwh</td>\n",
       "      <td>NaN</td>\n",
       "      <td>NaN</td>\n",
       "      <td>NaN</td>\n",
       "      <td>NaN</td>\n",
       "      <td>0.0</td>\n",
       "      <td>0.0</td>\n",
       "      <td>0.0</td>\n",
       "      <td>PAID</td>\n",
       "      <td>NaN</td>\n",
       "    </tr>\n",
       "    <tr>\n",
       "      <th>4</th>\n",
       "      <td>2022-09-27T14:49:04+02:00</td>\n",
       "      <td>Janusz Małota</td>\n",
       "      <td>5YJSA3H19EFP46878</td>\n",
       "      <td>ms</td>\n",
       "      <td>PL</td>\n",
       "      <td>Krakow, Poland</td>\n",
       "      <td>CHARGING : NO_CHARGE</td>\n",
       "      <td>41.00 kwh</td>\n",
       "      <td>NaN</td>\n",
       "      <td>NaN</td>\n",
       "      <td>...</td>\n",
       "      <td>2.65/kwh</td>\n",
       "      <td>NaN</td>\n",
       "      <td>NaN</td>\n",
       "      <td>NaN</td>\n",
       "      <td>NaN</td>\n",
       "      <td>0.0</td>\n",
       "      <td>0.0</td>\n",
       "      <td>0.0</td>\n",
       "      <td>PAID</td>\n",
       "      <td>NaN</td>\n",
       "    </tr>\n",
       "  </tbody>\n",
       "</table>\n",
       "<p>5 rows × 23 columns</p>\n",
       "</div>"
      ],
      "text/plain": [
       "         ChargeStartDateTime           Name                Vin Model Country  \\\n",
       "0  2022-10-21T08:45:10+02:00  Janusz Małota  5YJSA3H19EFP46878    ms      PL   \n",
       "1  2022-10-04T16:04:27+02:00  Janusz Małota  5YJSA3H19EFP46878    ms      PL   \n",
       "2  2022-10-04T15:52:52+02:00  Janusz Małota  5YJSA3H19EFP46878    ms      PL   \n",
       "3  2022-10-01T13:55:09+02:00  Janusz Małota  5YJSA3H19EFP46878    ms      PL   \n",
       "4  2022-09-27T14:49:04+02:00  Janusz Małota  5YJSA3H19EFP46878    ms      PL   \n",
       "\n",
       "  SiteLocationName           Description QuantityBase QuantityTier1  \\\n",
       "0   Krakow, Poland  CHARGING : NO_CHARGE    34.00 kwh           NaN   \n",
       "1   Krakow, Poland  CHARGING : NO_CHARGE    24.00 kwh           NaN   \n",
       "2   Krakow, Poland  CHARGING : NO_CHARGE     9.00 kwh           NaN   \n",
       "3   Krakow, Poland  CHARGING : NO_CHARGE    31.00 kwh           NaN   \n",
       "4   Krakow, Poland  CHARGING : NO_CHARGE    41.00 kwh           NaN   \n",
       "\n",
       "  QuantityTier2  ...  UnitCostBase  UnitCostTier1  UnitCostTier2  \\\n",
       "0           NaN  ...      2.60/kwh            NaN            NaN   \n",
       "1           NaN  ...      2.65/kwh            NaN            NaN   \n",
       "2           NaN  ...      2.65/kwh            NaN            NaN   \n",
       "3           NaN  ...      2.65/kwh            NaN            NaN   \n",
       "4           NaN  ...      2.65/kwh            NaN            NaN   \n",
       "\n",
       "  UnitCostTier3 UnitCostTier4  VAT  Total Exc. VAT  Total Inc. VAT  Status  \\\n",
       "0           NaN           NaN  0.0             0.0             0.0    PAID   \n",
       "1           NaN           NaN  0.0             0.0             0.0    PAID   \n",
       "2           NaN           NaN  0.0             0.0             0.0    PAID   \n",
       "3           NaN           NaN  0.0             0.0             0.0    PAID   \n",
       "4           NaN           NaN  0.0             0.0             0.0    PAID   \n",
       "\n",
       "   Invoice  \n",
       "0      NaN  \n",
       "1      NaN  \n",
       "2      NaN  \n",
       "3      NaN  \n",
       "4      NaN  \n",
       "\n",
       "[5 rows x 23 columns]"
      ]
     },
     "execution_count": 24,
     "metadata": {},
     "output_type": "execute_result"
    }
   ],
   "source": [
    "df.head()"
   ]
  },
  {
   "cell_type": "code",
   "execution_count": 25,
   "metadata": {},
   "outputs": [],
   "source": [
    "df['QuantityBase'] = df['QuantityBase'].str.replace(' kwh', '').astype(float)\n",
    "df['ChargeStartDateTime'] = pd.to_datetime(df['ChargeStartDateTime'], utc=True)\n",
    "df['year'] = df.ChargeStartDateTime.dt.year"
   ]
  },
  {
   "cell_type": "code",
   "execution_count": 26,
   "metadata": {},
   "outputs": [],
   "source": [
    "df[['City', 'Country']] = df.SiteLocationName.str.split(',', expand=True)"
   ]
  },
  {
   "cell_type": "code",
   "execution_count": 27,
   "metadata": {},
   "outputs": [
    {
     "data": {
      "text/html": [
       "<div>\n",
       "<style scoped>\n",
       "    .dataframe tbody tr th:only-of-type {\n",
       "        vertical-align: middle;\n",
       "    }\n",
       "\n",
       "    .dataframe tbody tr th {\n",
       "        vertical-align: top;\n",
       "    }\n",
       "\n",
       "    .dataframe thead th {\n",
       "        text-align: right;\n",
       "    }\n",
       "</style>\n",
       "<table border=\"1\" class=\"dataframe\">\n",
       "  <thead>\n",
       "    <tr style=\"text-align: right;\">\n",
       "      <th></th>\n",
       "      <th>ChargeStartDateTime</th>\n",
       "      <th>Name</th>\n",
       "      <th>Vin</th>\n",
       "      <th>Model</th>\n",
       "      <th>Country</th>\n",
       "      <th>SiteLocationName</th>\n",
       "      <th>Description</th>\n",
       "      <th>QuantityBase</th>\n",
       "      <th>QuantityTier1</th>\n",
       "      <th>QuantityTier2</th>\n",
       "      <th>...</th>\n",
       "      <th>UnitCostTier2</th>\n",
       "      <th>UnitCostTier3</th>\n",
       "      <th>UnitCostTier4</th>\n",
       "      <th>VAT</th>\n",
       "      <th>Total Exc. VAT</th>\n",
       "      <th>Total Inc. VAT</th>\n",
       "      <th>Status</th>\n",
       "      <th>Invoice</th>\n",
       "      <th>year</th>\n",
       "      <th>City</th>\n",
       "    </tr>\n",
       "  </thead>\n",
       "  <tbody>\n",
       "    <tr>\n",
       "      <th>0</th>\n",
       "      <td>2022-10-21 06:45:10+00:00</td>\n",
       "      <td>Janusz Małota</td>\n",
       "      <td>5YJSA3H19EFP46878</td>\n",
       "      <td>ms</td>\n",
       "      <td>Poland</td>\n",
       "      <td>Krakow, Poland</td>\n",
       "      <td>CHARGING : NO_CHARGE</td>\n",
       "      <td>34.0</td>\n",
       "      <td>NaN</td>\n",
       "      <td>NaN</td>\n",
       "      <td>...</td>\n",
       "      <td>NaN</td>\n",
       "      <td>NaN</td>\n",
       "      <td>NaN</td>\n",
       "      <td>0.0</td>\n",
       "      <td>0.0</td>\n",
       "      <td>0.0</td>\n",
       "      <td>PAID</td>\n",
       "      <td>NaN</td>\n",
       "      <td>2022</td>\n",
       "      <td>Krakow</td>\n",
       "    </tr>\n",
       "    <tr>\n",
       "      <th>1</th>\n",
       "      <td>2022-10-04 14:04:27+00:00</td>\n",
       "      <td>Janusz Małota</td>\n",
       "      <td>5YJSA3H19EFP46878</td>\n",
       "      <td>ms</td>\n",
       "      <td>Poland</td>\n",
       "      <td>Krakow, Poland</td>\n",
       "      <td>CHARGING : NO_CHARGE</td>\n",
       "      <td>24.0</td>\n",
       "      <td>NaN</td>\n",
       "      <td>NaN</td>\n",
       "      <td>...</td>\n",
       "      <td>NaN</td>\n",
       "      <td>NaN</td>\n",
       "      <td>NaN</td>\n",
       "      <td>0.0</td>\n",
       "      <td>0.0</td>\n",
       "      <td>0.0</td>\n",
       "      <td>PAID</td>\n",
       "      <td>NaN</td>\n",
       "      <td>2022</td>\n",
       "      <td>Krakow</td>\n",
       "    </tr>\n",
       "    <tr>\n",
       "      <th>2</th>\n",
       "      <td>2022-10-04 13:52:52+00:00</td>\n",
       "      <td>Janusz Małota</td>\n",
       "      <td>5YJSA3H19EFP46878</td>\n",
       "      <td>ms</td>\n",
       "      <td>Poland</td>\n",
       "      <td>Krakow, Poland</td>\n",
       "      <td>CHARGING : NO_CHARGE</td>\n",
       "      <td>9.0</td>\n",
       "      <td>NaN</td>\n",
       "      <td>NaN</td>\n",
       "      <td>...</td>\n",
       "      <td>NaN</td>\n",
       "      <td>NaN</td>\n",
       "      <td>NaN</td>\n",
       "      <td>0.0</td>\n",
       "      <td>0.0</td>\n",
       "      <td>0.0</td>\n",
       "      <td>PAID</td>\n",
       "      <td>NaN</td>\n",
       "      <td>2022</td>\n",
       "      <td>Krakow</td>\n",
       "    </tr>\n",
       "    <tr>\n",
       "      <th>3</th>\n",
       "      <td>2022-10-01 11:55:09+00:00</td>\n",
       "      <td>Janusz Małota</td>\n",
       "      <td>5YJSA3H19EFP46878</td>\n",
       "      <td>ms</td>\n",
       "      <td>Poland</td>\n",
       "      <td>Krakow, Poland</td>\n",
       "      <td>CHARGING : NO_CHARGE</td>\n",
       "      <td>31.0</td>\n",
       "      <td>NaN</td>\n",
       "      <td>NaN</td>\n",
       "      <td>...</td>\n",
       "      <td>NaN</td>\n",
       "      <td>NaN</td>\n",
       "      <td>NaN</td>\n",
       "      <td>0.0</td>\n",
       "      <td>0.0</td>\n",
       "      <td>0.0</td>\n",
       "      <td>PAID</td>\n",
       "      <td>NaN</td>\n",
       "      <td>2022</td>\n",
       "      <td>Krakow</td>\n",
       "    </tr>\n",
       "    <tr>\n",
       "      <th>4</th>\n",
       "      <td>2022-09-27 12:49:04+00:00</td>\n",
       "      <td>Janusz Małota</td>\n",
       "      <td>5YJSA3H19EFP46878</td>\n",
       "      <td>ms</td>\n",
       "      <td>Poland</td>\n",
       "      <td>Krakow, Poland</td>\n",
       "      <td>CHARGING : NO_CHARGE</td>\n",
       "      <td>41.0</td>\n",
       "      <td>NaN</td>\n",
       "      <td>NaN</td>\n",
       "      <td>...</td>\n",
       "      <td>NaN</td>\n",
       "      <td>NaN</td>\n",
       "      <td>NaN</td>\n",
       "      <td>0.0</td>\n",
       "      <td>0.0</td>\n",
       "      <td>0.0</td>\n",
       "      <td>PAID</td>\n",
       "      <td>NaN</td>\n",
       "      <td>2022</td>\n",
       "      <td>Krakow</td>\n",
       "    </tr>\n",
       "  </tbody>\n",
       "</table>\n",
       "<p>5 rows × 25 columns</p>\n",
       "</div>"
      ],
      "text/plain": [
       "        ChargeStartDateTime           Name                Vin Model  Country  \\\n",
       "0 2022-10-21 06:45:10+00:00  Janusz Małota  5YJSA3H19EFP46878    ms   Poland   \n",
       "1 2022-10-04 14:04:27+00:00  Janusz Małota  5YJSA3H19EFP46878    ms   Poland   \n",
       "2 2022-10-04 13:52:52+00:00  Janusz Małota  5YJSA3H19EFP46878    ms   Poland   \n",
       "3 2022-10-01 11:55:09+00:00  Janusz Małota  5YJSA3H19EFP46878    ms   Poland   \n",
       "4 2022-09-27 12:49:04+00:00  Janusz Małota  5YJSA3H19EFP46878    ms   Poland   \n",
       "\n",
       "  SiteLocationName           Description  QuantityBase QuantityTier1  \\\n",
       "0   Krakow, Poland  CHARGING : NO_CHARGE          34.0           NaN   \n",
       "1   Krakow, Poland  CHARGING : NO_CHARGE          24.0           NaN   \n",
       "2   Krakow, Poland  CHARGING : NO_CHARGE           9.0           NaN   \n",
       "3   Krakow, Poland  CHARGING : NO_CHARGE          31.0           NaN   \n",
       "4   Krakow, Poland  CHARGING : NO_CHARGE          41.0           NaN   \n",
       "\n",
       "  QuantityTier2  ...  UnitCostTier2  UnitCostTier3  UnitCostTier4  VAT  \\\n",
       "0           NaN  ...            NaN            NaN            NaN  0.0   \n",
       "1           NaN  ...            NaN            NaN            NaN  0.0   \n",
       "2           NaN  ...            NaN            NaN            NaN  0.0   \n",
       "3           NaN  ...            NaN            NaN            NaN  0.0   \n",
       "4           NaN  ...            NaN            NaN            NaN  0.0   \n",
       "\n",
       "  Total Exc. VAT Total Inc. VAT  Status  Invoice  year    City  \n",
       "0            0.0            0.0    PAID      NaN  2022  Krakow  \n",
       "1            0.0            0.0    PAID      NaN  2022  Krakow  \n",
       "2            0.0            0.0    PAID      NaN  2022  Krakow  \n",
       "3            0.0            0.0    PAID      NaN  2022  Krakow  \n",
       "4            0.0            0.0    PAID      NaN  2022  Krakow  \n",
       "\n",
       "[5 rows x 25 columns]"
      ]
     },
     "execution_count": 27,
     "metadata": {},
     "output_type": "execute_result"
    }
   ],
   "source": [
    "df.head()"
   ]
  },
  {
   "cell_type": "markdown",
   "metadata": {},
   "source": [
    "# TESLA MODEL S 85 CHARGING DATA FROM 2017/03/31 TO 2022/11/11"
   ]
  },
  {
   "cell_type": "markdown",
   "metadata": {},
   "source": [
    "## GENERAL STATISTICS"
   ]
  },
  {
   "cell_type": "markdown",
   "metadata": {},
   "source": [
    "### TOTAL ENERGY (kwh)"
   ]
  },
  {
   "cell_type": "code",
   "execution_count": 28,
   "metadata": {},
   "outputs": [
    {
     "data": {
      "text/plain": [
       "10460.0"
      ]
     },
     "execution_count": 28,
     "metadata": {},
     "output_type": "execute_result"
    }
   ],
   "source": [
    "df['QuantityBase'].sum()"
   ]
  },
  {
   "cell_type": "markdown",
   "metadata": {},
   "source": [
    "### MEAN CHARGING"
   ]
  },
  {
   "cell_type": "code",
   "execution_count": 29,
   "metadata": {},
   "outputs": [
    {
     "data": {
      "text/plain": [
       "31.41141141141141"
      ]
     },
     "execution_count": 29,
     "metadata": {},
     "output_type": "execute_result"
    }
   ],
   "source": [
    "df['QuantityBase'].mean()"
   ]
  },
  {
   "cell_type": "markdown",
   "metadata": {},
   "source": [
    "### MEAN DISTANCE BETWEEN CHARGING (MEAN ENERGY CONSUMPTION = 0.2 kwh/km)"
   ]
  },
  {
   "cell_type": "code",
   "execution_count": 30,
   "metadata": {},
   "outputs": [
    {
     "data": {
      "text/plain": [
       "157.05705705705705"
      ]
     },
     "execution_count": 30,
     "metadata": {},
     "output_type": "execute_result"
    }
   ],
   "source": [
    "mean_energy_consumption = 0.2\n",
    "df['QuantityBase'].mean() / mean_energy_consumption"
   ]
  },
  {
   "cell_type": "markdown",
   "metadata": {},
   "source": [
    "### TOTAL COST OF ENERGY (PLN)"
   ]
  },
  {
   "cell_type": "code",
   "execution_count": 31,
   "metadata": {},
   "outputs": [
    {
     "data": {
      "text/plain": [
       "26150.0"
      ]
     },
     "execution_count": 31,
     "metadata": {},
     "output_type": "execute_result"
    }
   ],
   "source": [
    "price_kwh_pln = 2.5\n",
    "df['QuantityBase'].sum() * price_kwh_pln"
   ]
  },
  {
   "cell_type": "markdown",
   "metadata": {},
   "source": [
    "## STATISTICS BY YEAR"
   ]
  },
  {
   "cell_type": "markdown",
   "metadata": {},
   "source": [
    "### CHARGED ENERGY BY YEAR"
   ]
  },
  {
   "cell_type": "code",
   "execution_count": 32,
   "metadata": {},
   "outputs": [
    {
     "data": {
      "text/plain": [
       "<AxesSubplot:xlabel='year'>"
      ]
     },
     "execution_count": 32,
     "metadata": {},
     "output_type": "execute_result"
    },
    {
     "data": {
      "image/png": "[encoded data removed]",
      "text/plain": [
       "<Figure size 864x720 with 1 Axes>"
      ]
     },
     "metadata": {
      "needs_background": "light"
     },
     "output_type": "display_data"
    }
   ],
   "source": [
    "df.groupby('year').sum()['QuantityBase'].plot.bar()"
   ]
  },
  {
   "cell_type": "markdown",
   "metadata": {},
   "source": [
    "### CHARGE COUNT BY YEAR"
   ]
  },
  {
   "cell_type": "markdown",
   "metadata": {},
   "source": [
    "## CHARGED ENERGY BY COUNTRY"
   ]
  },
  {
   "cell_type": "code",
   "execution_count": 33,
   "metadata": {},
   "outputs": [],
   "source": [
    "import pandas as pd\n",
    "import geopandas\n",
    "import matplotlib.pyplot as plt\n",
    "%matplotlib inline\n",
    "from shapely.geometry import Polygon\n",
    "import warnings\n",
    "warnings.filterwarnings(action='ignore')"
   ]
  },
  {
   "cell_type": "code",
   "execution_count": 34,
   "metadata": {},
   "outputs": [
    {
     "data": {
      "text/plain": [
       "<AxesSubplot:>"
      ]
     },
     "execution_count": 34,
     "metadata": {},
     "output_type": "execute_result"
    },
    {
     "data": {
      "image/png": "[encoded data removed]",
      "text/plain": [
       "<Figure size 864x720 with 1 Axes>"
      ]
     },
     "metadata": {
      "needs_background": "light"
     },
     "output_type": "display_data"
    }
   ],
   "source": [
    "plt.rcParams['figure.figsize']=(12,10)\n",
    "plt.rcParams['font.size']=12\n",
    "\n",
    "world = geopandas.read_file(geopandas.datasets.get_path('naturalearth_lowres'))\n",
    "\n",
    "europe=world[world.continent=='Europe']\n",
    "europe=europe[(europe.name!='Russia') & (europe.name!='Iceland')]\n",
    "# Create a custom polygon\n",
    "polygon = Polygon([(-25,35), (40,35), (40,75),(-25,75)])\n",
    "europe=geopandas.clip(europe, polygon) \n",
    "europe.plot()\n"
   ]
  },
  {
   "cell_type": "markdown",
   "metadata": {},
   "source": [
    "## CHARGED ENERGY BY SUPERCHARGER LOCATION"
   ]
  },
  {
   "cell_type": "code",
   "execution_count": null,
   "metadata": {},
   "outputs": [],
   "source": []
  },
  {
   "cell_type": "code",
   "execution_count": null,
   "metadata": {},
   "outputs": [],
   "source": []
  }
 ],
 "metadata": {
  "language_info": {
   "name": "python"
  },
  "orig_nbformat": 4
 },
 "nbformat": 4,
 "nbformat_minor": 2
}
